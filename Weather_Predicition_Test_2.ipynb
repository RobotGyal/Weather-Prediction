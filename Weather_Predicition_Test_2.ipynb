{
  "nbformat": 4,
  "nbformat_minor": 0,
  "metadata": {
    "colab": {
      "name": "Weather Predicition Test 2.ipynb",
      "provenance": [],
      "collapsed_sections": []
    },
    "kernelspec": {
      "name": "python3",
      "display_name": "Python 3"
    },
    "language_info": {
      "name": "python"
    }
  },
  "cells": [
    {
      "cell_type": "code",
      "metadata": {
        "id": "VNE6GFKq8vRU"
      },
      "source": [
        "# Imports\n",
        "\n",
        "import pandas as pd\n",
        "import numpy as np\n",
        "import matplotlib.pyplot as plt\n",
        "from keras.models import Sequential\n",
        "from keras.callbacks import ModelCheckpoint, EarlyStopping\n",
        "from keras.layers import Dense, LSTM, Bidirectional, Dropout\n",
        "from sklearn.model_selection import train_test_split\n",
        "from sklearn.preprocessing import MinMaxScaler\n",
        "from scipy.ndimage import gaussian_filter1d\n",
        "from scipy.signal import medfilt\n",
        "from sklearn.model_selection import train_test_split"
      ],
      "execution_count": null,
      "outputs": []
    },
    {
      "cell_type": "code",
      "metadata": {
        "colab": {
          "base_uri": "https://localhost:8080/"
        },
        "id": "mE3wSTRR8075",
        "outputId": "3ca78517-351b-4097-cbba-23ae2fe447d4"
      },
      "source": [
        "# Load Data\n",
        "\n",
        "data = pd.read_csv(\"weatherHistory.csv\")\n",
        "dates = pd.DataFrame(data.iloc[:,0:1].values)\n",
        "temp_data = data.iloc[:,3:4].values #temperature column only\n",
        "temp_data\n",
        "print(type(dates))"
      ],
      "execution_count": null,
      "outputs": [
        {
          "output_type": "stream",
          "text": [
            "<class 'pandas.core.frame.DataFrame'>\n"
          ],
          "name": "stdout"
        }
      ]
    },
    {
      "cell_type": "code",
      "metadata": {
        "id": "KH6TVt6rL1Tz"
      },
      "source": [
        "# Optional Filter\n",
        "\n",
        "filter_active = 0\n",
        "if filter_active == True:\n",
        "  temp_data = medfilt(temp_data, 3)\n",
        "  temp_data = gaussian_filter1d(temp_data, 1.2)"
      ],
      "execution_count": null,
      "outputs": []
    },
    {
      "cell_type": "code",
      "metadata": {
        "id": "SEPp6ocn82dm"
      },
      "source": [
        "# Encode the data\n",
        "\n",
        "mms = MinMaxScaler(feature_range = (0,1))\n",
        "temp_data = mms.fit_transform(temp_data)"
      ],
      "execution_count": null,
      "outputs": []
    },
    {
      "cell_type": "code",
      "metadata": {
        "id": "2XrTZqQD9bHj"
      },
      "source": [
        "# Train data (OPTION 1)\n",
        "\n",
        "x_train = []\n",
        "y_train = []\n",
        "n_future = 7     #7 days temperature forecast\n",
        "n_past = 30      #Past 30 days \n",
        "\n",
        "for i in range(0,len(temp_data)-n_past-n_future+1):\n",
        "    x_train.append(temp_data[i : i + n_past , 0])     \n",
        "    y_train.append(temp_data[i + n_past : i + n_past + n_future , 0 ])\n",
        "\n",
        "x_train , y_train = np.array(x_train), np.array(y_train)\n",
        "x_train = np.reshape(x_train, (x_train.shape[0] , x_train.shape[1], 1) )\n",
        "\n",
        "\n",
        "# ----------------------------------------------------------------------------\n",
        "\n",
        "# Train Data (OPTION 2)\n",
        "\n",
        "# x_train, y_train = train_test_split(temp_data, \n",
        "#                                     test_size=0.25, \n",
        "#                                     random_state=0)"
      ],
      "execution_count": null,
      "outputs": []
    },
    {
      "cell_type": "code",
      "metadata": {
        "id": "WW9SIGA69tsC"
      },
      "source": [
        "# LSTM Model Defninition\n",
        "\n",
        "model = Sequential()\n",
        "model.add(Bidirectional(LSTM(units=50, \n",
        "                             activation= \"relu\", \n",
        "                             return_sequences=True, \n",
        "                             input_shape = (x_train.shape[1], 1))))\n",
        "model.add(Dropout(0.2))\n",
        "model.add(LSTM(units= 50, return_sequences=True))\n",
        "model.add(Dropout(0.2))\n",
        "model.add(LSTM(units= 50, return_sequences=True))\n",
        "model.add(Dropout(0.2))\n",
        "model.add(LSTM(units= 50))\n",
        "model.add(Dense(units = n_future , activation=\"relu\"))  "
      ],
      "execution_count": null,
      "outputs": []
    },
    {
      "cell_type": "code",
      "metadata": {
        "id": "Ht92v0P9_E4h"
      },
      "source": [
        "# Extra Model Functionality\n",
        "\n",
        "# Model Checkpoint \n",
        "checkpoint_filepath = '/checkpoints'\n",
        "checkpoint = ModelCheckpoint(\n",
        "    filepath=checkpoint_filepath,\n",
        "    save_weights_only=True,\n",
        "    monitor='loss',\n",
        "    mode='max',\n",
        "    save_best_only=True)\n",
        "\n",
        "\n",
        "# Early Stopping\n",
        "stopping = EarlyStopping(monitor='loss', patience=5)\n"
      ],
      "execution_count": null,
      "outputs": []
    },
    {
      "cell_type": "code",
      "metadata": {
        "colab": {
          "base_uri": "https://localhost:8080/"
        },
        "id": "aG7TdawB-DNP",
        "outputId": "f47e0831-f5e5-44a5-8536-7e87d7446d5e"
      },
      "source": [
        "\n",
        "# Train Model\n",
        "\n",
        "model.compile(optimizer='adam', \n",
        "              loss = 'mean_squared_error', \n",
        "              metrics='accuracy')\n",
        "history = model.fit(x_train, \n",
        "          y_train, \n",
        "          epochs=10, \n",
        "          batch_size=100,\n",
        "          verbose=1,\n",
        "          callbacks=[checkpoint, stopping]\n",
        "          )\n",
        "\n",
        "# Save model\n",
        "model.save('lstm_model.h5')"
      ],
      "execution_count": null,
      "outputs": [
        {
          "output_type": "stream",
          "text": [
            "Epoch 1/10\n",
            "965/965 [==============================] - 119s 116ms/step - loss: 0.0255 - accuracy: 0.1596\n",
            "Epoch 2/10\n",
            "965/965 [==============================] - 112s 116ms/step - loss: 0.0027 - accuracy: 0.4824\n",
            "Epoch 3/10\n",
            "965/965 [==============================] - 112s 116ms/step - loss: 0.0023 - accuracy: 0.5220\n",
            "Epoch 4/10\n",
            "965/965 [==============================] - 112s 116ms/step - loss: 0.0021 - accuracy: 0.5295\n",
            "Epoch 5/10\n",
            "965/965 [==============================] - 112s 116ms/step - loss: 0.0019 - accuracy: 0.5392\n",
            "Epoch 6/10\n",
            "965/965 [==============================] - 112s 117ms/step - loss: 0.0019 - accuracy: 0.5422\n",
            "Epoch 7/10\n",
            "965/965 [==============================] - 113s 117ms/step - loss: 0.0018 - accuracy: 0.5478\n",
            "Epoch 8/10\n",
            "965/965 [==============================] - 112s 117ms/step - loss: 0.0018 - accuracy: 0.5512\n",
            "Epoch 9/10\n",
            "965/965 [==============================] - 112s 116ms/step - loss: 0.0017 - accuracy: 0.5513\n",
            "Epoch 10/10\n",
            "965/965 [==============================] - 112s 116ms/step - loss: 0.0017 - accuracy: 0.5551\n"
          ],
          "name": "stdout"
        }
      ]
    },
    {
      "cell_type": "code",
      "metadata": {
        "id": "PTNquCCEVB1r"
      },
      "source": [
        "\n",
        "# Visualize Metrics\n",
        "\n",
        "# Loss\n",
        "def visualize_loss(history, title):\n",
        "    loss = history.history[\"loss\"]\n",
        "    epochs = range(len(loss))\n",
        "    plt.figure()\n",
        "    plt.plot(epochs, loss, \"ro--\", label=\"Training loss\")\n",
        "    plt.title(title)\n",
        "    plt.xlabel(\"Epochs\")\n",
        "    plt.ylabel(\"Loss\")\n",
        "    plt.show()\n",
        "\n",
        "# Accuracy\n",
        "def visualize_acc(history, title):\n",
        "    acc = history.history[\"accuracy\"]\n",
        "    epochs = range(len(acc))\n",
        "    plt.figure()\n",
        "    plt.plot(epochs, acc, \"ro--\", label=\"Training loss\")\n",
        "    plt.title(title)\n",
        "    plt.xlabel(\"Epochs\")\n",
        "    plt.ylabel(\"Accuracy\")\n",
        "    plt.show()\n",
        "\n",
        "\n",
        "\n",
        "visualize_loss(history, \"Training Loss\")\n",
        "visualize_acc(history, \"Training Accuracy\")\n"
      ],
      "execution_count": null,
      "outputs": []
    },
    {
      "cell_type": "code",
      "metadata": {
        "id": "4C9_xglf-LEf",
        "colab": {
          "base_uri": "https://localhost:8080/"
        },
        "outputId": "43829ef7-c9f0-4282-a515-5d5f2d2bc2ac"
      },
      "source": [
        "# Predictions and Plots\n",
        "temp_data\n"
      ],
      "execution_count": null,
      "outputs": [
        {
          "output_type": "execute_result",
          "data": {
            "text/plain": [
              "array([[0.50697507],\n",
              "       [0.50508505],\n",
              "       [0.50544505],\n",
              "       ...,\n",
              "       [0.71055711],\n",
              "       [0.70218702],\n",
              "       [0.68463685]])"
            ]
          },
          "metadata": {
            "tags": []
          },
          "execution_count": 14
        }
      ]
    },
    {
      "cell_type": "code",
      "metadata": {
        "id": "12F7fyNdhkRD"
      },
      "source": [
        "# Prediction\n",
        "\n"
      ],
      "execution_count": null,
      "outputs": []
    },
    {
      "cell_type": "code",
      "metadata": {
        "id": "Dm4BMriujm8Y"
      },
      "source": [
        ""
      ],
      "execution_count": null,
      "outputs": []
    },
    {
      "cell_type": "code",
      "metadata": {
        "id": "Y2AzlmOQjmuD"
      },
      "source": [
        ""
      ],
      "execution_count": null,
      "outputs": []
    }
  ]
}